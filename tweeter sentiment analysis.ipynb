{
 "cells": [
  {
   "cell_type": "code",
   "execution_count": 2,
   "metadata": {
    "collapsed": false
   },
   "outputs": [],
   "source": [
    "import tweepy\n",
    "\n",
    "consumer_key = \"pzpf4IF4pgNvBfFI37HAlAHiX\"\n",
    "consumer_secret = \"hdt5oFuoURbleSORenC6RDq71OUrIBHF8nF5qoX06Kt9UmHLPk\"\n",
    "\n",
    "access_token = \"97342605-zwhhoixAhF6q2qcv6UrQgmTQFn4fwKgbKHT1yMRsT\"\n",
    "access_token_secret = \"58JkvVrjEOOfGFndRno2KSrYUHjdvnM7voXQZ5QSVQfKd\"\n",
    "\n",
    "auth = tweepy.OAuthHandler(consumer_key,consumer_secret)\n",
    "auth.set_access_token(access_token,access_token_secret)\n",
    "\n",
    "api = tweepy.API(auth)"
   ]
  },
  {
   "cell_type": "code",
   "execution_count": 45,
   "metadata": {
    "collapsed": false
   },
   "outputs": [
    {
     "data": {
      "image/png": "[encoded data removed]",
      "text/plain": [
       "<matplotlib.figure.Figure at 0x111113190>"
      ]
     },
     "metadata": {},
     "output_type": "display_data"
    }
   ],
   "source": [
    "import textblob\n",
    "import numpy as np\n",
    "import matplotlib.pyplot as plt\n",
    "\n",
    "hillary_tweets = api.search(\"Hillary\",count=100,result_type=\"recent\")\n",
    "trump_tweets = api.search(\"Trump\",count=100,result_type=\"recent\")\n",
    "\n",
    "trump_polarity = []\n",
    "trump_subjectivity = []\n",
    "for tweet in trump_tweets:\n",
    "    analysis = textblob.TextBlob(tweet.text).sentiment\n",
    "    trump_polarity.append(analysis.polarity)\n",
    "    trump_subjectivity.append(analysis.subjectivity)\n",
    "plt.scatter(trump_polarity, trump_subjectivity,c=\"r\",s=10)\n",
    "\n",
    "hillary_polarity = []\n",
    "hillary_subjectivity = []\n",
    "for tweet in hillary_tweets:\n",
    "    analysis = textblob.TextBlob(tweet.text).sentiment\n",
    "    hillary_polarity.append(analysis.polarity)\n",
    "    hillary_subjectivity.append(analysis.subjectivity)\n",
    "plt.scatter(hillary_polarity, hillary_subjectivity,c=\"b\",s=10)\n",
    "\n",
    "\n",
    "plt.xlabel('polarity')\n",
    "plt.ylabel('subjectivity')\n",
    "plt.xlim([-1.1,1.1])\n",
    "plt.ylim([-0.1,1.1])\n",
    "plt.show()"
   ]
  },
  {
   "cell_type": "code",
   "execution_count": 43,
   "metadata": {
    "collapsed": false
   },
   "outputs": [
    {
     "data": {
      "image/png": "[encoded data removed]",
      "text/plain": [
       "<matplotlib.figure.Figure at 0x11271e290>"
      ]
     },
     "metadata": {},
     "output_type": "display_data"
    }
   ],
   "source": [
    "hillary_tweets = api.search(\"Hillary\",count=100,result_type=\"popular\")\n",
    "trump_tweets = api.search(\"Trump\",count=100,result_type=\"popular\")\n",
    "\n",
    "trump_polarity = []\n",
    "trump_subjectivity = []\n",
    "for tweet in trump_tweets:\n",
    "    analysis = textblob.TextBlob(tweet.text).sentiment\n",
    "    trump_polarity.append(analysis.polarity)\n",
    "    trump_subjectivity.append(analysis.subjectivity)\n",
    "plt.scatter(trump_polarity, trump_subjectivity,c=\"r\")\n",
    "\n",
    "hillary_polarity = []\n",
    "hillary_subjectivity = []\n",
    "for tweet in hillary_tweets:\n",
    "    analysis = textblob.TextBlob(tweet.text).sentiment\n",
    "    hillary_polarity.append(analysis.polarity)\n",
    "    hillary_subjectivity.append(analysis.subjectivity)\n",
    "plt.scatter(hillary_polarity, hillary_subjectivity,c=\"b\")\n",
    "\n",
    "\n",
    "plt.xlabel('polarity')\n",
    "plt.ylabel('subjectivity')\n",
    "plt.xlim([-1.1,1.1])\n",
    "plt.ylim([-0.1,1.1])\n",
    "plt.show()"
   ]
  },
  {
   "cell_type": "code",
   "execution_count": null,
   "metadata": {
    "collapsed": true
   },
   "outputs": [],
   "source": []
  }
 ],
 "metadata": {
  "anaconda-cloud": {},
  "kernelspec": {
   "display_name": "Python [conda env:data analysis]",
   "language": "python",
   "name": "conda-env-data analysis-py"
  },
  "language_info": {
   "codemirror_mode": {
    "name": "ipython",
    "version": 2
   },
   "file_extension": ".py",
   "mimetype": "text/x-python",
   "name": "python",
   "nbconvert_exporter": "python",
   "pygments_lexer": "ipython2",
   "version": "2.7.13"
  }
 },
 "nbformat": 4,
 "nbformat_minor": 1
}
