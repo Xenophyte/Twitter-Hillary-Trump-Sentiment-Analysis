{
 "cells": [
  {
   "cell_type": "code",
   "execution_count": 14,
   "metadata": {
    "collapsed": false
   },
   "outputs": [],
   "source": [
    "import tweepy\n",
    "import textblob\n",
    "import numpy as np\n",
    "import matplotlib.pyplot as plt\n",
    "import csv\n",
    "\n",
    "consumer_key = \"pzpf4IF4pgNvBfFI37HAlAHiX\"\n",
    "consumer_secret = \"hdt5oFuoURbleSORenC6RDq71OUrIBHF8nF5qoX06Kt9UmHLPk\"\n",
    "\n",
    "access_token = \"97342605-zwhhoixAhF6q2qcv6UrQgmTQFn4fwKgbKHT1yMRsT\"\n",
    "access_token_secret = \"58JkvVrjEOOfGFndRno2KSrYUHjdvnM7voXQZ5QSVQfKd\"\n",
    "\n",
    "auth = tweepy.OAuthHandler(consumer_key,consumer_secret)\n",
    "auth.set_access_token(access_token,access_token_secret)\n",
    "\n",
    "api = tweepy.API(auth)"
   ]
  },
  {
   "cell_type": "code",
   "execution_count": 15,
   "metadata": {
    "collapsed": false
   },
   "outputs": [],
   "source": [
    "def sentiment_value(pol):\n",
    "    if pol > 0.5:\n",
    "        return \"positive\"\n",
    "    elif pol < -0.5:\n",
    "        return \"negative\"\n",
    "    else:\n",
    "        return \"neutral\""
   ]
  },
  {
   "cell_type": "code",
   "execution_count": 22,
   "metadata": {
    "collapsed": false
   },
   "outputs": [
    {
     "data": {
      "image/png": "[encoded data removed]",
      "text/plain": [
       "<matplotlib.figure.Figure at 0x11e272310>"
      ]
     },
     "metadata": {},
     "output_type": "display_data"
    }
   ],
   "source": [
    "hillary_tweets = api.search(\"Hillary\",count=100,result_type=\"recent\")\n",
    "trump_tweets = api.search(\"Trump\",count=100,result_type=\"recent\")\n",
    "\n",
    "data = []\n",
    "\n",
    "trump_polarity = []\n",
    "trump_subjectivity = []\n",
    "for tweet in trump_tweets:\n",
    "    analysis = textblob.TextBlob(tweet.text).sentiment\n",
    "    trump_polarity.append(analysis.polarity)\n",
    "    trump_subjectivity.append(analysis.subjectivity)\n",
    "    data.append([tweet.text.encode(\"utf-8\"), sentiment_value(analysis.polarity)])\n",
    "plt.scatter(trump_polarity, trump_subjectivity,c=\"r\",s=10)\n",
    "\n",
    "hillary_polarity = []\n",
    "hillary_subjectivity = []\n",
    "for tweet in hillary_tweets:\n",
    "    analysis = textblob.TextBlob(tweet.text).sentiment\n",
    "    hillary_polarity.append(analysis.polarity)\n",
    "    hillary_subjectivity.append(analysis.subjectivity)\n",
    "    data.append([tweet.text.encode(\"utf-8\"), sentiment_value(analysis.polarity)])\n",
    "plt.scatter(hillary_polarity, hillary_subjectivity,c=\"b\",s=10)\n",
    "\n",
    "\n",
    "plt.xlabel('polarity')\n",
    "plt.ylabel('subjectivity')\n",
    "plt.xlim([-1.1,1.1])\n",
    "plt.ylim([-0.1,1.1])\n",
    "plt.show()"
   ]
  },
  {
   "cell_type": "code",
   "execution_count": 23,
   "metadata": {
    "collapsed": false
   },
   "outputs": [],
   "source": [
    "path = \"twitter_sentiment.csv\"\n",
    " \n",
    "with open(path, \"w\") as csv_file:\n",
    "        writer = csv.writer(csv_file, delimiter=',')\n",
    "        for line in data:\n",
    "            writer.writerow(line)"
   ]
  },
  {
   "cell_type": "code",
   "execution_count": 20,
   "metadata": {
    "collapsed": false
   },
   "outputs": [
    {
     "data": {
      "text/plain": [
       "['Dialect',\n",
       " 'DictReader',\n",
       " 'DictWriter',\n",
       " 'Error',\n",
       " 'QUOTE_ALL',\n",
       " 'QUOTE_MINIMAL',\n",
       " 'QUOTE_NONE',\n",
       " 'QUOTE_NONNUMERIC',\n",
       " 'Sniffer',\n",
       " 'StringIO',\n",
       " '_Dialect',\n",
       " '__all__',\n",
       " '__builtins__',\n",
       " '__doc__',\n",
       " '__file__',\n",
       " '__name__',\n",
       " '__package__',\n",
       " '__version__',\n",
       " 'excel',\n",
       " 'excel_tab',\n",
       " 'field_size_limit',\n",
       " 'get_dialect',\n",
       " 'list_dialects',\n",
       " 're',\n",
       " 'reader',\n",
       " 'reduce',\n",
       " 'register_dialect',\n",
       " 'unregister_dialect',\n",
       " 'writer']"
      ]
     },
     "execution_count": 20,
     "metadata": {},
     "output_type": "execute_result"
    }
   ],
   "source": [
    "dir(csv)"
   ]
  },
  {
   "cell_type": "code",
   "execution_count": null,
   "metadata": {
    "collapsed": true
   },
   "outputs": [],
   "source": []
  }
 ],
 "metadata": {
  "anaconda-cloud": {},
  "kernelspec": {
   "display_name": "Python [conda env:data analysis]",
   "language": "python",
   "name": "conda-env-data analysis-py"
  },
  "language_info": {
   "codemirror_mode": {
    "name": "ipython",
    "version": 2
   },
   "file_extension": ".py",
   "mimetype": "text/x-python",
   "name": "python",
   "nbconvert_exporter": "python",
   "pygments_lexer": "ipython2",
   "version": "2.7.13"
  }
 },
 "nbformat": 4,
 "nbformat_minor": 1
}
